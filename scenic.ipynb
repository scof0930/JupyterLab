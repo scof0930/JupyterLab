{
 "cells": [
  {
   "cell_type": "markdown",
   "id": "7dab4cfb-41cb-4790-9b4b-d071cc343ca2",
   "metadata": {
    "tags": []
   },
   "source": [
    "# SCENIC流程\n",
    "#### SCENIC分为四步进行GRN分析：\n",
    "##### （1）GENIE3/GRNBoost：基于共表达情况鉴定每个TF的潜在靶点；过滤表达矩阵并运行R包GENIE3/GRNBoost；将得到的靶点格式化为共表达模块。\n",
    "##### （2）RcisTarget：基于DNA-motif 分析选择潜在的直接结合靶点（调控原件），鉴定细胞状态和细胞的调控分子。\n",
    "##### （3）AUCell：分析每个细胞的网络活动度，计算AUC对细胞的调控元件进行评分；将网络活动度转为二分类矩阵（on、off）。\n",
    "##### （4）细胞聚类：基于GRN的活动度鉴定稳定的细胞状态并对结果进行探索。\n"
   ]
  },
  {
   "cell_type": "markdown",
   "id": "f6cebd80-f5f1-4631-9529-d6f3c1392020",
   "metadata": {},
   "source": [
    "## SCENIC环境搭建\n",
    "SCENIC最好基于R语言版本4.0以上去安装。SCENIC的环境需要依赖自身所带的包和motif数据库，按如下代码可以进行安装。"
   ]
  },
  {
   "cell_type": "code",
   "execution_count": null,
   "id": "193f84c8-c531-4724-897f-9e459d7fb392",
   "metadata": {},
   "outputs": [],
   "source": [
    "if (!requireNamespace(\"BiocManager\", quietly = TRUE)) install.packages(\"BiocManager\")\n",
    "\n",
    "BiocManager::install(c(\"GENIE3\", \"AUCell\", \"RcisTarget\"), version = \"3.8\")\n",
    "\n",
    "# Also required:\n",
    "\n",
    "install.packages('zoo')\n",
    "\n",
    "# Recommended to run AUCell:\n",
    "\n",
    "BiocManager::install(c(\"mixtools\", \"rbokeh\"))\n",
    "\n",
    "# To visualize the binary matrices and perform t-SNEs:\n",
    "\n",
    "BiocManager::install(c(\"NMF\", \"pheatmap\", \"Rtsne\", \"R2HTML\"))\n",
    "\n",
    "# To support paralell execution (not available in Windows):\n",
    "\n",
    "BiocManager::install(c(\"doMC\", \"doRNG\"))\n",
    "\n",
    "# To export/visualize in http://scope.aertslab.orgif (!requireNamespace(\"devtools\", quietly = TRUE)) install.packages(\"devtools\")\n",
    "\n",
    "devtools::install_github(\"aertslab/SCopeLoomR\", build_vignettes = TRUE)\n",
    "\n",
    "# Other dependencies for the examples (lower priority)\n",
    "\n",
    "BiocManager::install(c(\"SingleCellExperiment\"))\n",
    "\n",
    "# install.packages(\"devtools\")\n",
    "\n",
    "devtools::install_github(\"aertslab/SCENIC\")\n",
    "\n",
    "packageVersion(\"SCENIC\")\n"
   ]
  },
  {
   "cell_type": "markdown",
   "id": "1c433fd2-cc2a-4740-83bc-b198c2dd7ec2",
   "metadata": {},
   "source": [
    "下载motif分析，这一步时间会比较久。"
   ]
  },
  {
   "cell_type": "code",
   "execution_count": null,
   "id": "e248f59b-ade2-4778-8478-c5a158eb9bcd",
   "metadata": {},
   "outputs": [],
   "source": [
    "dbFiles <- c(\"https://resources.aertslab.org/cistarget/databases/homo_sapiens/hg19/refseq_r45/mc9nr/gene_based/hg19-500bp-upstream-7species.mc9nr.feather\",\"https://resources.aertslab.org/cistarget/databases/homo_sapiens/hg19/refseq_r45/mc9nr/gene_based/hg19-tss-centered-10kb-7species.mc9nr.feather\")\n",
    "\n",
    "dbFiles <- c(\"https://resources.aertslab.org/cistarget/databases/mus_musculus/mm9/refseq_r45/mc9nr/gene_based/mm9-500bp-upstream-7species.mc9nr.feather\",\"https://resources.aertslab.org/cistarget/databases/mus_musculus/mm9/refseq_r45/mc9nr/gene_based/mm9-tss-centered-10kb-7species.mc9nr.feather\")\n",
    "\n",
    "dbFiles <- c(\"https://resources.aertslab.org/cistarget/databases/drosophila_melanogaster/dm6/flybase_r6.02/mc8nr/gene_based/dm6-5kb-upstream-full-tx-11species.mc8nr.feather\")\n",
    "\n",
    "# dir.create(\"cisTarget_databases\"); setwd(\"cisTarget_databases\") # if needed\n",
    "\n",
    "for(featherURL in dbFiles)\n",
    "\n",
    "{\n",
    "\n",
    "download.file(featherURL, destfile=basename(featherURL)) \n",
    "\n",
    "descrURL <- gsub(\".feather$\", \".descr\", featherURL)\n",
    "\n",
    "if(file.exists(descrURL))  download.file(descrURL, destfile=basename(descrURL))\n",
    "\n",
    "}"
   ]
  },
  {
   "cell_type": "markdown",
   "id": "8b21a69a-2be2-4eab-a0ad-a599e3f83889",
   "metadata": {
    "tags": []
   },
   "source": [
    "## 1. 准备数据"
   ]
  },
  {
   "cell_type": "markdown",
   "id": "052c3dbd-afc5-4dcd-9aba-e70ca2f6b69e",
   "metadata": {},
   "source": [
    "本示例数据是官网提供的一个loom文件，通常分析的时候也可以不使用loom文件，用一个基因表达矩阵（行是基因，列是细胞）和一个细胞信息的矩阵（非必要）来代替。这里用的基因表达矩阵是小鼠大脑的200个细胞和862个基因，细胞信息有celltype、nGene、nUMI。**SCENIC使用这个数据是为了评价软件的性能和稳定性的，所以没有什么特定的生物意义。**  \n",
    "可以通过下面的链接下载本例使用的loom文件：https://github.com/aertslab/SCENIC/blob/master/inst/examples/mouseBrain_toy.loom"
   ]
  },
  {
   "cell_type": "code",
   "execution_count": null,
   "id": "1d61da74-755c-49ee-aa6e-70136f89b967",
   "metadata": {},
   "outputs": [],
   "source": [
    "#加载包\n",
    "library(SingleCellExperiment)\n",
    "library(SCENIC)\n",
    "library(AUCell)\n",
    "library(RcisTarget)\n",
    "library(SingleCellExperiment)\n",
    "library(GENIE3)\n",
    "library(doRNG)\n",
    "library(arrow)\n",
    "library(SCopeLoomR)\n",
    "library(foreach)"
   ]
  },
  {
   "cell_type": "code",
   "execution_count": null,
   "id": "ee2e5f0e-083b-4491-bbe3-ae0003eea40f",
   "metadata": {},
   "outputs": [],
   "source": [
    "#加载loom文件，文件内包含了一个基因表达矩阵和细胞的信息\n",
    "loom <- open_loom(\"mouseBrain_toy.loom\")\n",
    "exprMat <- get_dgem(loom)\n",
    "#提供cell info或者表型相关的信息,用于后面的比较分析，但没有这个信息也可以\n",
    "cellInfo <- get_cell_annotation(loom)\n",
    "close_loom(loom)"
   ]
  },
  {
   "cell_type": "markdown",
   "id": "6a59d3c9-c1c1-4a96-ba85-afa6bcc0aee3",
   "metadata": {},
   "source": [
    "## 2. 初始化SCENIC参数"
   ]
  },
  {
   "cell_type": "code",
   "execution_count": null,
   "id": "e4caf7f0-edac-4f9a-a3e2-5beb1bea2746",
   "metadata": {},
   "outputs": [],
   "source": [
    "#初始化设置\n",
    "#cisTarget_databases：每个集合中的motifs 或 ChIP-seq 轨道的转录因子的注释，这里选择的是小鼠的数据\n",
    "scenicOptions <- initializeScenic(org=\"mgi\", dbDir=\"cisTarget_databases\", nCores=10)\n",
    "# [email protected]$cellInfo <- \"int/cellInfo.Rds\"\n",
    "saveRDS(scenicOptions, file=\"int/scenicOptions.Rds\")"
   ]
  },
  {
   "cell_type": "markdown",
   "id": "cfb6e051-2b70-4a06-a8c4-6d87ab236c15",
   "metadata": {},
   "source": [
    "## 3. 基因的过滤、筛选\n",
    "最好使用较松的过滤标准，移除低表达或者少数细胞表达的基因\n",
    "#### （1）minCountsPerGene：平均每个基因的读序数\n",
    "目的：是移除疑似“噪声”的基因，默认保存所有样本≥6UMI counts的基因，根据数据集的表达量单位（UMI,TPM等)校正。\n",
    "#### （2）minSamples：表达该基因的细胞数\n",
    "目的：移除少量“噪声”细胞，即该基因在少数细胞高表达，导致噪声产生，默认保存至少在1%的细胞表达的基因。为避免移除有生物学意义的罕见细胞，推荐设置低于细胞最小分群占比的百分数作为筛选标准。\n",
    "#### （3）仅保留RcisTarget包中数据库有的基因\n",
    "目的：移除下游分析不需要的基因，节省GENIE3/GRNBoost运行的时间。"
   ]
  },
  {
   "cell_type": "code",
   "execution_count": null,
   "id": "94efda3e-f749-485d-a975-93b2d7a2a6d6",
   "metadata": {},
   "outputs": [],
   "source": [
    "genesKept<-geneFiltering(exprMat, scenicOptions=scenicOptions,\n",
    "                 minCountsPerGene=3*.01*ncol(exprMat),\n",
    "                minSamples=ncol(exprMat)*.01)\n",
    "#从exprMat取过滤后的基因的部分矩阵作为过滤后的矩阵exprMat_filtered\n",
    "exprMat_filtered <- exprMat[genesKept, ]"
   ]
  },
  {
   "cell_type": "markdown",
   "id": "9c37f254-5069-4b87-9a28-ad8f0a0ed36b",
   "metadata": {},
   "source": [
    "## 4. 计算spearman相关系数\n",
    "共表达分析的结果中既有正向调控也有负向调控，GENIE3无法区分。因此需要相关性矩阵帮助**筛选共表达模块中和TF正相关的基因。**"
   ]
  },
  {
   "cell_type": "code",
   "execution_count": null,
   "id": "5fa7b2cb-9e4f-4267-bb71-1885a40004c3",
   "metadata": {},
   "outputs": [],
   "source": [
    "runCorrelation(exprMat_filtered, scenicOptions)"
   ]
  },
  {
   "cell_type": "markdown",
   "id": "f9409ba8-ba89-4eb7-b22e-440049ca3244",
   "metadata": {},
   "source": [
    "## 5. 推断TF靶点\n",
    "函数 runGenie3 以默认参数运行r包GENIE3，将RcisTarget的数据库作为候选的调控因子。GENIE3运用了随机森林的算法，每次运行的结果都有些许不同，ntrees越多，可变性就越低。设置set.seed可以产生较为准确的结果。这一步耗时较长，这次运行的100kb左右的数据要跑几分钟，数据量大的话需要跑几天的时间。\n",
    "主要是**为了在参考数据库找出输入基因中哪些是TF，计算每个TF和各个基因之间的相关性权重。**权重其实也就是TF对gene表达量的贡献。"
   ]
  },
  {
   "cell_type": "code",
   "execution_count": null,
   "id": "99286c20-2ffb-4a0b-a41d-63687d2d3a20",
   "metadata": {},
   "outputs": [],
   "source": [
    "# log转换\n",
    "exprMat_filtered <- log2(exprMat_filtered+1) \n",
    "# 运行GENIE3\n",
    "runGenie3(exprMat_filtered, scenicOptions)"
   ]
  },
  {
   "cell_type": "markdown",
   "id": "16ea84ec-3ae9-463d-9196-02c07a1d8dab",
   "metadata": {},
   "source": [
    "## 6. 获得共表达模块\n",
    "得到上面的TF和gene的权重矩阵以后，就可以生成以TF为核心的geneset。（比如TF1它可能对gene1、gene5、gene12...的预测都比较好，就可以得到以TF1为核心的geneset）。"
   ]
  },
  {
   "cell_type": "code",
   "execution_count": null,
   "id": "59b85f50-d1ec-4d62-b46b-6242d5197337",
   "metadata": {},
   "outputs": [],
   "source": [
    "#log转换\n",
    "exprMat_log <- log2(exprMat+1)\n",
    "#获得共表达模块\n",
    "scenicOptions <- runSCENIC_1_coexNetwork2modules(scenicOptions)"
   ]
  },
  {
   "cell_type": "markdown",
   "id": "94933115-f998-48e6-9854-a6ce1fc3989b",
   "metadata": {},
   "source": [
    "## 7. 创造regulons\n",
    "通过RcisTarget数据库对得到的共表达模块进行修剪。通俗的讲就是**在计算出的TF-gene对中，结合数据库查看该gene上游序列是否存在该TF结合的motif。**从而剔除TF非直接调控基因的共表达模块，保留Motif分析共表达模块内与TF有直接调控关系的基因，得到Regulon。（RcisTarget数据库中的数据目前只支持人，鼠，果蝇三个物种。）  \n",
    "SCENIC使用以下6种方法**过滤掉低相关性的TF-genes共表达基因集，得到以TF为核心的regulon。**这一步运行得到的结果中包含了一列corr，是runCorrelation()得到的结果。1代表激活，-1代表抑制，0代表中性，SCENIC只会采用corr值为1的数据用于后续分析，以得到正调控共表达模块。"
   ]
  },
  {
   "cell_type": "markdown",
   "id": "7345924f-a625-4e89-ad26-c6eab1af51e7",
   "metadata": {},
   "source": [
    "![jupyter](./pics/1.png)"
   ]
  },
  {
   "cell_type": "code",
   "execution_count": null,
   "id": "536ce04f-aa5b-4d6d-803e-62981ed93b03",
   "metadata": {},
   "outputs": [],
   "source": [
    "#创建regulons\n",
    "scenicOptions <-runSCENIC_2_createRegulons(scenicOptions, coexMethod=c(\"top5perTarget\"))"
   ]
  },
  {
   "cell_type": "markdown",
   "id": "2967e349-737b-4e9d-957c-008dcf44bbf1",
   "metadata": {},
   "source": [
    "## 8. regulon活性评分\n",
    "每个Regulon就是一个转录因子及其直接调控靶基因的基因集，**SCENIC接下来的工作就是对每个regulon在各个细胞中的活性评分，得到每个基因集在每个细胞的AUC score矩阵（AUC代表来与细胞内其他基因相比，特征基因中代表基因的比例及其相对表达值）。**评分是基于recovery analysis，根据基因的表达值进行，分数越高代表基因集的激活程度越高。"
   ]
  },
  {
   "cell_type": "code",
   "execution_count": null,
   "id": "34cbca30-35c2-4ab4-ba5a-d84a5b93ff2c",
   "metadata": {},
   "outputs": [],
   "source": [
    "scenicOptions <- runSCENIC_3_scoreCells(scenicOptions, exprMat_log)"
   ]
  },
  {
   "cell_type": "markdown",
   "id": "671f2608-9825-42ee-9f38-f108ff172e9e",
   "metadata": {},
   "source": [
    "通过这一步的评分，SCENIC可以自动生成一个有所有regulon在细胞的AUCscore热图Step3_RegulonActivity_heatmap.pdf，这里的y轴代表了不同的regulon，x轴代表不同的细胞。颜色代表的就是所有regulon的AUC分数，颜色越偏向蓝色代表该regulon在此细胞里的活性越低，颜色越偏向红色代表该regulon在此细胞里的活性越高，如下图所示。"
   ]
  },
  {
   "cell_type": "markdown",
   "id": "f6dd3b2a-406a-4458-8d07-9c8562aa375f",
   "metadata": {},
   "source": [
    "![jupyter](./pics/2.png)"
   ]
  },
  {
   "cell_type": "markdown",
   "id": "7fd2a580-bc93-48d6-9a85-6152f10b12df",
   "metadata": {},
   "source": [
    "这一步还会产生每一个regulon的tSNE降维图，例如下图是基因集Dlx5在每个细胞上的分布。"
   ]
  },
  {
   "cell_type": "markdown",
   "id": "176bf2ac-f841-404a-96e1-bc2ec68cb98f",
   "metadata": {},
   "source": [
    "<img src=\"./pics/3.png\"  />"
   ]
  },
  {
   "cell_type": "markdown",
   "id": "7f9be4c1-348d-44a9-b08c-7be22ffa235d",
   "metadata": {},
   "source": [
    "## 9. 根据阈值进行二分类\n",
    "对于细胞类型清晰的数据集而言，构建regulons并对其活性打分足够后续分析。但是，在很多情况下将评分转换为二进制的“开/关”(on|off)，则既方便解释，又能最大化体现细胞类型的差异。将特定的regulon转换为“0/1”有利于探索和解释关键转录因子。将所有的regulons转换为“0/1”后创建二进制的活性矩阵，则可以用于细胞聚类，由于regulon是基于整体评分的，**对消除技术偏倚如个别基因的dropout特别有用。**AUCell会自动计算可能的阈值进行“0/1”转换。"
   ]
  },
  {
   "cell_type": "code",
   "execution_count": null,
   "id": "803a8e1b-20f5-4436-8126-31c3c6021afa",
   "metadata": {},
   "outputs": [],
   "source": [
    "scenicOptions <- runSCENIC_4_aucell_binarize(scenicOptions)"
   ]
  },
  {
   "cell_type": "markdown",
   "id": "11189753-fdf0-44a3-9aaf-93c1a4a38910",
   "metadata": {},
   "source": [
    "通过这一步的二分类，SCENIC可以自动生成一个有所有regulon在细胞的AUCscore热图Step4_BinaryRegulonActivity_heatmap_all.pdf，这里的y轴代表了不同的regulon，x轴代表不同的细胞。由于只有0和1两种状态，所以下面的热图只有黑白两色，如下面图片所示。"
   ]
  },
  {
   "cell_type": "markdown",
   "id": "f5f71efb-a296-429b-824f-c579876a8b87",
   "metadata": {},
   "source": [
    "<img src=\"./pics/4.png\"  />"
   ]
  },
  {
   "cell_type": "markdown",
   "id": "6ea6c80d-e7f1-43f8-beb7-9d185f300000",
   "metadata": {},
   "source": [
    "runSCENIC_4_aucell_binarize还会对最活跃的7个regulon画出一个tSNE降维图，这里每个点代表一个细胞，因为这里也是用的上面的结果，所以也是黑白两色的，黑色就代表该细胞有活跃的regulon，如下图所示。"
   ]
  },
  {
   "cell_type": "markdown",
   "id": "fa6a9fd1-d339-4455-8bee-be0bfe279c24",
   "metadata": {},
   "source": [
    "<img src=\"./pics/5.png\"  />"
   ]
  },
  {
   "cell_type": "markdown",
   "id": "e0e9c912-16bd-4baa-8ff0-dacb5ad3983b",
   "metadata": {},
   "source": [
    "也可以直接在R里面画出相应选择的regulon的tSNE降维图。"
   ]
  },
  {
   "cell_type": "code",
   "execution_count": null,
   "id": "78b2d6f4-0191-42b0-b10a-cd3060fda8a9",
   "metadata": {},
   "outputs": [],
   "source": [
    "tSNE_scenic <- readRDS(tsneFileName(scenicOptions))\n",
    "aucell_regulonAUC <- loadInt(scenicOptions, \"aucell_regulonAUC\")\n",
    "# Show TF expression:\n",
    "par(mfrow=c(2,3))\n",
    "AUCell::AUCell_plotTSNE(tSNE_scenic$Y, exprMat, aucell_regulonAUC[onlyNonDuplicatedExtended(rownames(aucell_regulonAUC))[c(\"Dlx5\", \"Sox10\", \"Sox9\",\"Irf1\", \"Stat6\")],], plots=\"Expression\")"
   ]
  },
  {
   "cell_type": "markdown",
   "id": "dcc48dc8-21ac-416b-9bbc-e39801badfd6",
   "metadata": {},
   "source": [
    "runSCENIC_4_aucell_binarize还生成了两个箱型图，第一个是指每个regulon有多少细胞，第二个是指每个细胞有多少的regulon。"
   ]
  },
  {
   "cell_type": "markdown",
   "id": "904d0923-f7ee-47d0-9131-5fdf51c95f45",
   "metadata": {},
   "source": [
    "<img src=\"./pics/6.png\"  />"
   ]
  },
  {
   "cell_type": "markdown",
   "id": "1ac7f888-7040-4228-8d94-104697fccfd2",
   "metadata": {},
   "source": [
    "这里还会产生一个相似的regulon的tSNE降维图，但只有AUC分数大于0.099才会标出来该细胞。这里的0.099指的是前面的AUC算出来的阈值的分数，这个分数我们也可以自己定义。通常来说，当AUC的分数大于0.099的时候，这个regulon在细胞里面的活性就已经很强了。"
   ]
  },
  {
   "cell_type": "markdown",
   "id": "9407f751-0d02-4be8-be88-e853e151f759",
   "metadata": {},
   "source": [
    "<img src=\"./pics/8.png\"  />"
   ]
  },
  {
   "cell_type": "markdown",
   "id": "4905614a-a490-4e02-a379-0d29faf8faf3",
   "metadata": {},
   "source": [
    "这一步也会产生一个柱状图，这里的x轴是AUC的分数值，y轴是频率。通过这个图，我们可以看出某一个regulon在所有的细胞当中的AUC分数的分布情况。regulon标记仅在一部分细胞中激活的理想情况应返回双峰分布（如下图），或带有长尾的分布。**AUCell会自动计算可能出现的阈值，比如曲线的拐点（双峰分布的时候最常使用），我们也可以根据峰值的分布情况手动地去调整阈值。当regulon当中的gene较少的时候要特别注意，最好手动调整阈值。**  \n",
    "这里需要注意的是，AUC分类的时候允许将regulon高活性和低活性的分为两个不同的簇。"
   ]
  },
  {
   "cell_type": "markdown",
   "id": "96f190d1-c04f-4f74-8f1f-b5fb81b6d2e7",
   "metadata": {},
   "source": [
    "<img src=\"./pics/9.png\"  />"
   ]
  },
  {
   "cell_type": "markdown",
   "id": "bdad4a76-d7d3-4248-96b8-3bc62688302e",
   "metadata": {},
   "source": [
    "使用以下代码可以直接查看regulons的情况，也可以选取需要查看的regulon的TF和该regulon调控的gene。"
   ]
  },
  {
   "cell_type": "code",
   "execution_count": null,
   "id": "7bed801a-b2f5-451d-9fa4-d44d2fc09e47",
   "metadata": {},
   "outputs": [],
   "source": [
    "regulons <- loadInt(scenicOptions, \"regulons\")\n",
    "regulons[c(\"Dlx5\", \"Irf1\")]\n",
    "#也可以选择由AUCell过滤过后的regulons\n",
    "regulons <- loadInt(scenicOptions, \"aucell_regulons\")\n",
    "regulons[c(\"Dlx5\", \"Irf1\")]"
   ]
  },
  {
   "cell_type": "markdown",
   "id": "bcbb3498-f4d3-45e1-a5e1-ba5bd8d78f5e",
   "metadata": {},
   "source": [
    "可以使用以下代码把特定的regulon抽出来进行分析，下面就是把TF为Stat6的regulon抽出来单独变为一个list。list里面有对应的TF、所调控的gene、最好的motif、NES的值（校正后的富集得分）、motifDB的信息、TF和被调控的gene的weight（被调控的可能性）。"
   ]
  },
  {
   "cell_type": "code",
   "execution_count": null,
   "id": "81f3c0eb-8a70-4781-8aff-5cc5e4bd94c9",
   "metadata": {},
   "outputs": [],
   "source": [
    "regulonTargetsInfo <- loadInt(scenicOptions, \"regulonTargetsInfo\")\n",
    "tableSubset <- regulonTargetsInfo[TF==\"Stat6\" & highConfAnnot==TRUE]\n",
    "viewMotifs(tableSubset, options=list(pageLength=5)) \n",
    "#可以直接查看对应的regulon的情况\n",
    "viewMotifs(tableSubset) "
   ]
  },
  {
   "cell_type": "markdown",
   "id": "314317db-215f-4789-b2e8-97ea7db977ae",
   "metadata": {},
   "source": [
    "SCENIC还提供了查看regulons和celltype相关性的功能，如下面代码所示。"
   ]
  },
  {
   "cell_type": "code",
   "execution_count": null,
   "id": "c28b28a2-5827-44ae-b68c-e3ad9085ea36",
   "metadata": {},
   "outputs": [],
   "source": [
    "topRegulators <- reshape2::melt(regulonActivity_byCellType_Binarized)\n",
    "colnames(topRegulators) <- c(\"Regulon\", \"CellType\", \"RelativeActivity\")\n",
    "topRegulators <- topRegulators[which(topRegulators$RelativeActivity>minPerc),]\n",
    "viewTable(topRegulators)"
   ]
  },
  {
   "cell_type": "markdown",
   "id": "39a4fe95-08d4-4bfa-b22f-098f21ed9eb0",
   "metadata": {},
   "source": [
    "当细胞种类较多的时候可以通过RSS（Regulon Specificity Score）来识别regulons的特异性。用下面的代码可以画出热点图，颜色深浅代表z-sore值，点的大小代表RSS评分。这里的x轴代表不同的细胞类型，例如中间神经元、骨髓发育细胞等等；y轴代表不同的regulon。"
   ]
  },
  {
   "cell_type": "code",
   "execution_count": null,
   "id": "1d046bcd-50ab-4970-a125-56af6c869a47",
   "metadata": {},
   "outputs": [],
   "source": [
    "# Cell-type specific regulators (RSS): \n",
    "regulonAUC <- loadInt(scenicOptions, \"aucell_regulonAUC\")\n",
    "rss <- calcRSS(AUC=getAUC(regulonAUC), cellAnnotation=cellInfo[colnames(regulonAUC), \"CellType\"], )\n",
    "rssPlot <- plotRSS(rss)\n",
    "plotly::ggplotly(rssPlot$plot)"
   ]
  },
  {
   "cell_type": "markdown",
   "id": "fd8451f5-60ce-4be3-9458-2cf0f0f76246",
   "metadata": {},
   "source": [
    "画出感兴趣的基因调控网络，这里我选择了\"Stat6\",\"Dlx5\",\"Sox10\"这三个作为示例，首先先导出成excel文件，然后通过cytoscape软件来构建基因调控网络的图像。在cytoscape里面操作后就可以得到这三个TF组成的基因调控网络，如下图所示。  \n",
    "cytoscape的使用可以参考以下文章：https://zhuanlan.zhihu.com/p/220527695"
   ]
  },
  {
   "cell_type": "code",
   "execution_count": null,
   "id": "0620b96d-0149-4142-928b-3334d04dc690",
   "metadata": {},
   "outputs": [],
   "source": [
    "#选择感兴趣的TF\n",
    "tableSubset1 <- regulonTargetsInfo[TF==c(\"Stat6\" ,\"Dlx5\",\"Sox10\")& highConfAnnot==TRUE]\n",
    "#导出成excel的格式\n",
    "write.csv(tableSubset1,file=\"test_csv.csv\",row.names= FALSE)"
   ]
  },
  {
   "cell_type": "markdown",
   "id": "4a59e327-447c-469e-80f2-8233b164dafe",
   "metadata": {},
   "source": [
    "<img src=\"./pics/10.png\"/>"
   ]
  },
  {
   "cell_type": "markdown",
   "id": "adac5838-ae16-4b52-89a6-b5e8aff6741b",
   "metadata": {},
   "source": [
    "## 参考文献\n",
    "[1] Aibar, S., et al. (2017). \"SCENIC: single-cell regulatory network inference and clustering.\" Nature Methods 14(11): 1083-1086.  \n",
    "[2] Van de Sande, B., et al. (2020). \"A scalable SCENIC workflow for single-cell gene regulatory network analysis.\" Nature Protocols 15(7): 2247-2276."
   ]
  },
  {
   "cell_type": "markdown",
   "id": "0ea63d74-db8d-49a7-98a6-52112414170a",
   "metadata": {},
   "source": [
    "## 参考网站\n",
    "[1] iRegulon官方网站教程http://iregulon.aertslab.org/tutorial.html#start  \n",
    "[2] SCENIC: 单细胞RNA-seq数据推断基因调控网络和细胞功能聚类https://www.jianshu.com/p/cd967c449177  \n",
    "[3] R包SCENIC：分析流程https://www.jianshu.com/p/3cda2ad1ec20  \n",
    "[4] R包SCENIC:input数据准备https://www.jianshu.com/p/cc3e13ef9c0b  \n",
    "[5] 单细胞SCENIC分析原理和流程介绍https://www.jianshu.com/p/093a835ab056  \n",
    "[6] SCENIC的使用https://www.cnblogs.com/raisok/p/12425225.html  \n",
    "[7] Running SCENIChttps://rawcdn.githack.com/aertslab/SCENIC/0a4c96ed8d930edd8868f07428090f9dae264705/inst/doc/SCENIC_Running.html#scenic_workflow  "
   ]
  }
 ],
 "metadata": {
  "kernelspec": {
   "display_name": "R",
   "language": "R",
   "name": "ir"
  },
  "language_info": {
   "codemirror_mode": "r",
   "file_extension": ".r",
   "mimetype": "text/x-r-source",
   "name": "R",
   "pygments_lexer": "r",
   "version": "4.0.3"
  }
 },
 "nbformat": 4,
 "nbformat_minor": 5
}
