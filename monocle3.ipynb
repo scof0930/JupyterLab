{
 "cells": [
  {
   "cell_type": "markdown",
   "id": "bf60ea4d-25c7-456e-8b00-e99d94087286",
   "metadata": {},
   "source": [
    "# Monocle教程\n",
    "********"
   ]
  },
  {
   "cell_type": "markdown",
   "id": "84469e70-404a-4bc5-a0f7-78174101347f",
   "metadata": {},
   "source": [
    "## 目录\n",
    "[Monocle简介](#Monocle简介)<br>\n",
    "[环境搭建](#环境搭建)<br>\n",
    "[1.获取数据](#1.获取数据)<br>\n",
    "[2.数据预处理](#2.数据预处理)<br>\n",
    "[3.UMAP降维](#3.UMAP降维)<br>\n",
    "[4.不同基因在不同分支的表达量](#4.不同基因在不同分支的表达量)<br>\n",
    "[5.细胞聚类](#5.细胞聚类)<br>\n",
    "[6.寻找主路径](#6.寻找主路径)<br>\n",
    "[7.对细胞出现的先后进行排序](#7.对细胞出现的先后进行排序)<br>\n",
    "[8.发育轨迹可视化](#8.发育轨迹可视化)<br>\n",
    "[9.3D发育轨迹](#9.3D发育轨迹)<br>\n",
    "[10.差异分析](#10.差异分析)<br>\n",
    "[参考文献](#参考文献)<br>\n",
    "[参考网站](#参考网站)<br>"
   ]
  },
  {
   "cell_type": "markdown",
   "id": "32f25958-7000-4dea-89be-e025b0a525d9",
   "metadata": {},
   "source": [
    "## Monocle简介\n",
    "在发育过程中，细胞对刺激作出反应，并在整个生命过程中，从一种功能“状态”过渡到另一种功能“状态”。不同状态的细胞表达不同的基因，产生蛋白质和代谢物的动态重复序列，从而完成它们的工作。当细胞在状态之间移动时，它们经历一个转录重组的过程，一些基因被沉默，另一些基因被激活。这些瞬时状态通常很难描述，因为在更稳定的端点状态之间纯化细胞可能是困难的或不可能的。单细胞RNA-Seq可以使我们在不需要纯化的情况下看到这些状态。然而，要做到这一点，我们必须确定每个cell在可能的状态范围内的位置。\n",
    "\n",
    "Monocle介绍了利用RNA-Seq进行单细胞轨迹分析的策略。Monocle不是通过实验将细胞纯化成离散状态，而是使用一种算法来学习每个细胞必须经历的基因表达变化序列，作为动态生物学过程的一部分。一旦它了解了基因表达变化的整体“轨迹”，Monocle就可以将每个细胞置于轨迹中的适当位置。如果这个过程有多个结果，Monocle将建立一个“分支”轨迹。"
   ]
  },
  {
   "cell_type": "markdown",
   "id": "257b3bd1-5fea-4297-9d10-ce3101c4a74e",
   "metadata": {
    "tags": []
   },
   "source": [
    "## 环境搭建\n",
    "安装相关的依赖包以及R包“monocle3”，注意R语言的版本最好在4.0以上，参考https://www.jianshu.com/p/79886c1affe5"
   ]
  },
  {
   "cell_type": "code",
   "execution_count": null,
   "id": "bfec56b9-a783-4eec-a7fb-ce8423490061",
   "metadata": {},
   "outputs": [],
   "source": [
    "BiocManager::install(c('BiocGenerics', 'DelayedArray', 'DelayedMatrixStats',\n",
    "                      'limma', 'S4Vectors', 'SingleCellExperiment',\n",
    "                      'SummarizedExperiment', 'batchelor'))\n",
    "\n",
    "#install.packages(\"devtools\")\n",
    "\n",
    "devtools::install_github('cole-trapnell-lab/leidenbase')\n",
    "\n",
    "devtools::install_github('cole-trapnell-lab/monocle3')\n",
    "\n",
    "library(monocle3)\n",
    "\n",
    "package.version(monocle3)\n",
    "\n",
    "library(louvain)\n",
    "\n",
    "library(dplyr)"
   ]
  },
  {
   "cell_type": "markdown",
   "id": "1cc3c897-76f4-4667-8240-0b21f00838ab",
   "metadata": {
    "tags": []
   },
   "source": [
    "<h2 id=\"1\">1.获取数据</h2>"
   ]
  },
  {
   "cell_type": "markdown",
   "id": "f9c9be89-0021-482c-8269-7ae99dfeae68",
   "metadata": {},
   "source": [
    "创建对象一共需要三个文件：  \n",
    "（1）expression_matrix ：一个行为基因，列为细胞的基因表达矩阵。  \n",
    "（2）cell_metadata ：一个数据框，行为细胞，列是细胞的属性（比如细胞类型、培养环境、培养时间等）。  \n",
    "（3）gene_metadata是一个数据框，行为feature信息（比如基因），列是基因属性（比如GC含量）。重要的是，这个数据框中必须有这么一列：gene_short_name，其中保存基因名（简称或Symbol标准名均可，用于作图）。  \n",
    "三个文件要满足并且要满足：expression_matrix的行与gene_metadata的行对应；expression_matrix的列与cell_metadata的行对应。\n"
   ]
  },
  {
   "cell_type": "code",
   "execution_count": null,
   "id": "d2532d36-49f5-4988-927d-719aa3fe1e2c",
   "metadata": {},
   "outputs": [],
   "source": [
    "#下载数据\n",
    "expression_matrix = readRDS(url(\"http://staff.washington.edu/hpliner/data/packer_embryo_expression.rds\"))\n",
    "cell_metadata = readRDS(url(\"http://staff.washington.edu/hpliner/data/packer_embryo_colData.rds\"))\n",
    "gene_annotation = readRDS(url(\"http://staff.washington.edu/hpliner/data/packer_embryo_rowData.rds\"))\n",
    "\n",
    "# 创建CDS(Cell Data Set)对象\n",
    "cds <- new_cell_data_set(expression_matrix,\n",
    "                         cell_metadata = cell_metadata,\n",
    "                         gene_metadata = gene_annotation)\n",
    "cds"
   ]
  },
  {
   "cell_type": "markdown",
   "id": "0c990899-cef0-490c-88fb-acd00648e2e6",
   "metadata": {},
   "source": [
    "<h2 id=\"2\">2.数据预处理</h2>"
   ]
  },
  {
   "cell_type": "markdown",
   "id": "d92fb31f-d9c9-486d-af16-a2c0937d73df",
   "metadata": {},
   "source": [
    "这一步就是对数据进行归一化、标准化，初步降维是使用PCA（针对标准的RNA-seq，需要指定计算的主成分数）还是LSA（Latent semantic analysis，针对ATAC-seq），这些都是为后面的聚类操作（tSNE、UMAP做准备）。  \n",
    "降维方法method = c(\"PCA\", \"LSI\")，默认是PCA；默认维度num_dim是50；初步降维前归一化norm_method 默认是log处理；设置降维方法是PCA时，自动进行标准化处理。"
   ]
  },
  {
   "cell_type": "code",
   "execution_count": null,
   "id": "24fce338-8b73-4cab-a433-4d46f2c3a479",
   "metadata": {},
   "outputs": [],
   "source": [
    "# 设置100个主成分，因为细胞数太多(4万多个)，成分太少不足以代表整体\n",
    "cds <- preprocess_cds(cds, num_dim = 100, residual_model_formula_str = \"~ bg.300.loading + bg.400.loading + bg.500.1.loading + bg.500.2.loading + bg.r17.loading + bg.b01.loading + bg.b02.loading\")"
   ]
  },
  {
   "cell_type": "markdown",
   "id": "05fc7b99-9998-4c8d-b6eb-86be3c0ca8ca",
   "metadata": {},
   "source": [
    "<h2 id=\"3\">3.UMAP降维</h2>"
   ]
  },
  {
   "cell_type": "code",
   "execution_count": null,
   "id": "7b25fdb0-2208-4378-8ec6-5769ec6fa58b",
   "metadata": {},
   "outputs": [],
   "source": [
    "cds <- reduce_dimension(cds)\n",
    "#查看降维后的效果\n",
    "plot_cells(cds, label_groups_by_cluster=FALSE,  color_cells_by = \"cell.type\")"
   ]
  },
  {
   "cell_type": "markdown",
   "id": "fc926f47-73b8-415f-bb82-0056c0d8edb5",
   "metadata": {},
   "source": [
    "<h2 id=\"4\">4.不同基因在不同分支的表达量</h2>\n",
    "这一步可以选择不同的gene，然后在UMAP降维图上看每个基因的分布情况。"
   ]
  },
  {
   "cell_type": "code",
   "execution_count": null,
   "id": "f03b9e11-430e-4f88-ab24-0d8d7d825030",
   "metadata": {},
   "outputs": [],
   "source": [
    "ciliated_genes = c(\"che-1\",\n",
    "                   \"hlh-17\",\n",
    "                   \"nhr-6\",\n",
    "                   \"dmd-6\",\n",
    "                   \"ceh-36\",\n",
    "                   \"ham-1\")\n",
    " \n",
    "plot_cells(cds,\n",
    "           genes=ciliated_genes,\n",
    "           label_cell_groups=FALSE,\n",
    "           show_trajectory_graph=FALSE)"
   ]
  },
  {
   "cell_type": "markdown",
   "id": "57b48c14-da15-4336-85ec-d0935eb66f88",
   "metadata": {},
   "source": [
    "<h2 id=\"5\">5.细胞聚类</h2>"
   ]
  },
  {
   "cell_type": "markdown",
   "id": "51a3ab85-73da-4755-98f1-a5edfad810fe",
   "metadata": {},
   "source": [
    "Monocle不认为一组数据中的所有细胞都来自同一个”祖先“，很多实验中，它们会有多个发育轨迹。Monocle会通过聚类来判断细胞是否应该归属同一个发育轨迹。**在monocle的的cluster_cells()中，细胞可以按cluster细分，还可以按partition归为大类。**"
   ]
  },
  {
   "cell_type": "code",
   "execution_count": null,
   "id": "f8e437a1-f082-43e2-bc14-e873537b6145",
   "metadata": {},
   "outputs": [],
   "source": [
    "# 这里就用partition聚类\n",
    "cds <- cluster_cells(cds)\n",
    "\n",
    "plot_cells(cds, color_cells_by = \"partition\")"
   ]
  },
  {
   "cell_type": "markdown",
   "id": "10952a5f-ac07-44b9-a4f7-d720830b5e1a",
   "metadata": {},
   "source": [
    "<h2 id=\"6\">6.寻找主路径</h2>"
   ]
  },
  {
   "cell_type": "markdown",
   "id": "e5d5fead-b751-4222-b7fd-01eb257c87fb",
   "metadata": {},
   "source": [
    "\n",
    "Monocle3的目的是在实验中了解细胞是如何通过一个基因表达变化的生物程序进行转化的。每个细胞都可以看作是高维空间中的一个点，每个维描述了不同基因的表达。识别基因表达变化的程序相当于学习细胞在这个空间中遵循的轨迹。然而，分析中维度越多，学习轨迹就越困难。  \n",
    "\n",
    "幸运的是，许多基因通常彼此共存，因此可以使用各种不同的算法来降低数据的维数。Monocle3通过reduce_dimension提供了两种不同的降维算法(UMAP和tSNE)。两者都使用cell_data_set对象和一些允许用于缩小空间的维度。我们还可以提供一个模型公式，指示从数据中“减去”的一些变量(例如批ID或其他技术因素)，这样它就不会对轨迹产生影响。  \n",
    "\n",
    "函数learn_graph是继preprocess_cds、reduce_dimensions和cluster_cells之后的轨迹构建过程的第四个步骤。用learn graph在每个partition中寻找主路径，即细胞发展的轨迹。"
   ]
  },
  {
   "cell_type": "code",
   "execution_count": null,
   "id": "5841524d-dba3-4934-9622-e00696c6c99d",
   "metadata": {
    "tags": []
   },
   "outputs": [],
   "source": [
    "cds <- learn_graph(cds)\n",
    "plot_cells(cds,\n",
    "           color_cells_by = \"cell.type\",\n",
    "           label_groups_by_cluster=FALSE,\n",
    "           label_leaves=FALSE,\n",
    "           label_branch_points=FALSE)"
   ]
  },
  {
   "cell_type": "markdown",
   "id": "8655d095-fbaa-4455-9b41-3c963febbff2",
   "metadata": {},
   "source": [
    "<h2 id=\"7\">7.对细胞出现的先后进行排序</h2>\n",
    "也就是pseudotime（拟时序分析），推断哪个细胞先出来，哪个细胞后出来。它会对每个细胞在特定的过程（比如分化过程）中的参与度进行评估。"
   ]
  },
  {
   "cell_type": "code",
   "execution_count": null,
   "id": "877e5c77-69a0-4745-ad4f-5254feb2d7d0",
   "metadata": {},
   "outputs": [],
   "source": [
    "plot_cells(cds,\n",
    "           color_cells_by = \"embryo.time.bin\",\n",
    "           label_cell_groups=FALSE,\n",
    "           label_leaves=TRUE,\n",
    "           label_branch_points=TRUE,\n",
    "           graph_label_size=1.5)"
   ]
  },
  {
   "cell_type": "markdown",
   "id": "6232a83b-9a29-4096-bdca-5d6865a34049",
   "metadata": {},
   "source": [
    "图中的黑线就是整个架构（注意到整个图并非完全连接的，毕竟是按照partition聚类，每个partition中的细胞差异有点大）；浅灰色的圆圈表示”叶片“表示发育轨迹中的不同结局（可以认为拟时序分析的图是一个”根-茎-叶“结构），用参数label_leaves控制；黑色的圆圈表示分支节点，预示着其中的细胞会有不同发展方向，用参数label_branch_points控制；圈中数字大小表示出现时间的先后。  \n",
    "\t从上面的图中我们就能知道出现时间比较早的细胞位置，我们需要对全部的细胞都排个先后顺序，因此要用到order_cells() ，不过这个函数需要一个”根节点“位置，一般是一个partition分配一个根节点。可以通过get_earliest_principal_node()确定根节点：首先根据轨迹图中的节点将与它们最相近的细胞分成组，然后计算来自最早时间点的细胞所占组分，最后挑出包含早期细胞数量最多的节点，认为它是就是根节点。\n"
   ]
  },
  {
   "cell_type": "code",
   "execution_count": null,
   "id": "eab62d22-25b7-42e2-b582-da8ea145fd90",
   "metadata": {},
   "outputs": [],
   "source": [
    "# 官方给出了一个函数，这里定义了一个time_bin，选择了最早的时间点区间。\n",
    "get_earliest_principal_node <- function(cds, time_bin=\"130-170\"){\n",
    "  # 首先找到出现在最早时间区间的细胞ID\n",
    "  cell_ids <- which(colData(cds)[, \"embryo.time.bin\"] == time_bin)\n",
    " \n",
    "  closest_vertex <-\n",
    "    cds@principal_graph_aux[[\"UMAP\"]]$pr_graph_cell_proj_closest_vertex\n",
    "  closest_vertex <- as.matrix(closest_vertex[colnames(cds), ])\n",
    "  root_pr_nodes <-\n",
    "    igraph::V(principal_graph(cds)[[\"UMAP\"]])$name[as.numeric(names\n",
    "      (which.max(table(closest_vertex[cell_ids,]))))]\n",
    " \n",
    "  root_pr_nodes\n",
    "}\n",
    "cds = order_cells(cds, root_pr_nodes=get_earliest_principal_node(cds))"
   ]
  },
  {
   "cell_type": "markdown",
   "id": "fe34a15e-967d-47c4-8b69-a285ca978876",
   "metadata": {},
   "source": [
    "<h2 id=\"8\">8.发育轨迹可视化</h2>\n",
    "对发育轨迹可视化。"
   ]
  },
  {
   "cell_type": "code",
   "execution_count": null,
   "id": "97d826ce-2067-421e-a437-7fb54775a817",
   "metadata": {},
   "outputs": [],
   "source": [
    "plot_cells(cds,\n",
    "           color_cells_by = \"pseudotime\",\n",
    "           label_cell_groups=FALSE,\n",
    "           label_leaves=FALSE,\n",
    "           label_branch_points=FALSE,\n",
    "           graph_label_size=1.5)"
   ]
  },
  {
   "cell_type": "markdown",
   "id": "447a2f4c-2c8f-423f-963f-51b29eff67d8",
   "metadata": {},
   "source": [
    "<h2 id=\"9\">9.3D发育轨迹</h2>"
   ]
  },
  {
   "cell_type": "code",
   "execution_count": null,
   "id": "9fab7a87-a561-4605-b6f4-6d302d7396a8",
   "metadata": {},
   "outputs": [],
   "source": [
    "#Working with 3D trajectories\n",
    "\n",
    "cds_3d = reduce_dimension(cds, max_components = 3)\n",
    "cds_3d = cluster_cells(cds_3d)\n",
    "cds_3d = learn_graph(cds_3d)\n",
    "cds_3d = order_cells(cds_3d, root_pr_nodes=get_earliest_principal_node(cds))\n",
    "\n",
    "cds_3d_plot_obj = plot_cells_3d(cds_3d, color_cells_by=\"assigned_cell_type\")\n",
    "cds_3d_plot_obj"
   ]
  },
  {
   "cell_type": "markdown",
   "id": "083b72e5-d257-48b4-8c16-4adfc292a06d",
   "metadata": {},
   "source": [
    "<h2 id=\"10\">10.差异分析</h2>"
   ]
  },
  {
   "cell_type": "markdown",
   "id": "6d392a75-260b-4383-aa61-9529f0952486",
   "metadata": {},
   "source": [
    "这一部分将会根据几种不同的标准进行差异分析，并且不同复杂程度的分析用时也有较大差别（几分钟甚至几小时）。本例只针对一小部分基因进行最简单的分析，但实际上它可以处理上千基因。"
   ]
  },
  {
   "cell_type": "code",
   "execution_count": null,
   "id": "58454215-5e38-434f-9e31-e464c890ef94",
   "metadata": {},
   "outputs": [],
   "source": [
    "#测试的小基因集\n",
    "ciliated_genes = c(\"che-1\",\n",
    "                   \"hlh-17\",\n",
    "                   \"nhr-6\",\n",
    "                   \"dmd-6\",\n",
    "                   \"ceh-36\",\n",
    "                   \"ham-1\")\n",
    "cds_subset = cds[rowData(cds)$gene_short_name %in% ciliated_genes,]"
   ]
  },
  {
   "cell_type": "markdown",
   "id": "f183fe08-8cff-452c-87fb-153db43be974",
   "metadata": {},
   "source": [
    "Monocle会对每个基因拟合一个回归模型，其中会加入实验中的一些因素（比如时间、处理等）。例如，在胚胎相关的单细胞数据中，细胞会在不同的时间点进行收集，这里就可以检测是否有基因在这段时间内的表达量发生了变化，利用fit_models。"
   ]
  },
  {
   "cell_type": "code",
   "execution_count": null,
   "id": "4173517b-5a23-4c9f-96c2-b71092ee25c7",
   "metadata": {},
   "outputs": [],
   "source": [
    "gene_fits = fit_models(cds_subset, model_formula_str = \"~embryo.time\")\n",
    "# 其中model_formula_str就是要比较的分组对象，如果相获得不同的cluster或者partition的差异基因，就用model_formula_str = \"~cluster\"或者model_formula_str = \"~partition\"；另外还支持添加多个变量，比如考虑到批次效应 model_formula_str = \"~embryo.time + batch\""
   ]
  },
  {
   "cell_type": "markdown",
   "id": "fcfbb34b-f094-403b-8169-bb14f5632eb4",
   "metadata": {},
   "source": [
    "gene_fits是一个包含每个基因一行的tibble。模型列包含广义线性模型对象，每个模型对象都旨在使用上面的方程解释基因在细胞间的表达。参数model_formula a_str应该是指定模型公式的字符串。我们在测试中使用的模型公式可以包含colData表中作为列存在的任何术语，包括Monocle在其他分析步骤中添加的那些列。例如，如果使用cluster_cells，我们就可以使用cluster或partition(分别)作为模型公式来测试集群和分区之间不同的基因。我们还可以包含多个变量，例如~胚。时间+批处理，这对于减去不需要的partition效果非常有用。\n",
    "\n",
    "然后我们可以看看哪些基因是与时间因素相关的。"
   ]
  },
  {
   "cell_type": "code",
   "execution_count": null,
   "id": "52fa1a7d-6ab9-40c3-8915-6e318f7074c9",
   "metadata": {},
   "outputs": [],
   "source": [
    "fit_coefs = coefficient_table(gene_fits)\n",
    "# 挑出时间相关的组分\n",
    "emb_time_terms = fit_coefs %>% filter(term == \"embryo.time\")\n",
    "# coefficient_table()默认使用 Benjamini and Hochberg（BH）方法进行了p值的校正，得到了q值\n",
    "emb_time_terms %>% filter (q_value < 0.05) %>%\n",
    "  select(gene_short_name, term, q_value, estimate)"
   ]
  },
  {
   "cell_type": "markdown",
   "id": "8b9ee9bc-08f8-4cbd-8b89-3523e8fa6939",
   "metadata": {},
   "source": [
    "画出小提琴图"
   ]
  },
  {
   "cell_type": "code",
   "execution_count": null,
   "id": "6df97cea-4614-4492-99be-632ad9cdfe90",
   "metadata": {},
   "outputs": [],
   "source": [
    "plot_genes_violin(cds_subset, group_cells_by=\"embryo.time.bin\", ncol=2) +\n",
    "    theme(axis.text.x=element_text(angle=45, hjust=1))"
   ]
  },
  {
   "cell_type": "markdown",
   "id": "f88fc77f-aef7-487b-8849-35f10cb75a02",
   "metadata": {},
   "source": [
    "考虑批次效应  \n",
    "fit_models函数为cell_data_set中的每个基因拟合一个广义线性模型。可以提供公式来说明额外的协变量（例如收集天数、细胞类型、培养条件等）。"
   ]
  },
  {
   "cell_type": "code",
   "execution_count": null,
   "id": "f3ec6df7-9297-4350-8d33-fa9cf2583008",
   "metadata": {},
   "outputs": [],
   "source": [
    "gene_fits = fit_models(cds_subset, model_formula_str = \"~embryo.time + batch\")\n",
    "fit_coefs = coefficient_table(gene_fits)\n",
    "fit_coefs %>% filter(term != \"(Intercept)\") %>%\n",
    "  select(gene_short_name, term, q_value, estimate)"
   ]
  },
  {
   "cell_type": "markdown",
   "id": "045ec71e-0354-4347-aa18-adc075ae33b1",
   "metadata": {},
   "source": [
    "模型评价"
   ]
  },
  {
   "cell_type": "code",
   "execution_count": null,
   "id": "9aab7d74-aa38-4813-bd7b-2c3820cbb598",
   "metadata": {},
   "outputs": [],
   "source": [
    "gene_fits = fit_models(cds_subset, model_formula_str = \"~embryo.time\")\n",
    "evaluate_fits(gene_fits)"
   ]
  },
  {
   "cell_type": "markdown",
   "id": "c4aa5393-1fd5-47e2-b2ce-bbf3a50d8fbc",
   "metadata": {},
   "source": [
    "使用compare_models()比较判断要不要考虑批次效应，结果会返回一个likelihood ratio test结果"
   ]
  },
  {
   "cell_type": "code",
   "execution_count": null,
   "id": "10abaab5-7afb-4425-adef-a139570914a8",
   "metadata": {},
   "outputs": [],
   "source": [
    "time_batch_models = fit_models(cds_subset,\n",
    "                               model_formula_str = \"~embryo.time + batch\",\n",
    "                               expression_family=\"negbinomial\")\n",
    "time_models = fit_models(cds_subset,\n",
    "                        model_formula_str = \"~embryo.time\",\n",
    "                        expression_family=\"negbinomial\")\n",
    "compare_models(time_batch_models, time_models) %>% select(gene_short_name, q_value)"
   ]
  },
  {
   "cell_type": "markdown",
   "id": "4539e62b-d547-4e19-95b6-dfd26c9f2fa5",
   "metadata": {},
   "source": [
    "## 参考文献\n",
    "[1] [Trapnell, C., et al. (2014). \"The dynamics and regulators of cell fate decisions are revealed by pseudotemporal ordering of single cells.\" Nature Biotechnology 32(4): 381-386.](https://www.nature.com/articles/nbt.2859)"
   ]
  },
  {
   "cell_type": "markdown",
   "id": "b8bff1ea-3dbe-4b1d-84a1-3bb8af605776",
   "metadata": {},
   "source": [
    "## 参考网站\n",
    "[1] Monocle-拟时分析pseudotime的理解https://www.jianshu.com/p/be6102f77203  \n",
    "[2] scRNA-seq数据分析Monocle3 https://www.jianshu.com/p/e94cff521ebc  \n",
    "[3] 单细胞分析十八般武艺5：monocle3 https://cloud.tencent.com/developer/article/1819550  \n",
    "[4] 跟着官网学习单细胞Monocle3 https://www.plob.org/article/20919.html  \n",
    "[5] 使用Monocle3对多样本单细胞数据进行伪时间分析https://jddian.xyz/Monocle3/  "
   ]
  }
 ],
 "metadata": {
  "kernelspec": {
   "display_name": "R",
   "language": "R",
   "name": "ir"
  },
  "language_info": {
   "codemirror_mode": "r",
   "file_extension": ".r",
   "mimetype": "text/x-r-source",
   "name": "R",
   "pygments_lexer": "r",
   "version": "4.0.3"
  }
 },
 "nbformat": 4,
 "nbformat_minor": 5
}
